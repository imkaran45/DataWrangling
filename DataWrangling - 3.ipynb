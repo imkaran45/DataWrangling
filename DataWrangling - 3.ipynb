{
 "cells": [
  {
   "cell_type": "markdown",
   "id": "b605ca30",
   "metadata": {},
   "source": [
    "<h2> Objective:- Task 1P: Introduction to Python and Jupyter Notebooks </h2>\n",
    "\n",
    "<div style=\"text-align: right\"> Done by: <b>Karan Murjani </b> </div>"
   ]
  },
  {
   "cell_type": "code",
   "execution_count": 1,
   "id": "2e20e462",
   "metadata": {},
   "outputs": [],
   "source": [
    "#Dependency\n",
    "\n",
    "import numpy as np\n",
    "import pandas as pd\n",
    "import os\n",
    "from matplotlib import pyplot as plt"
   ]
  },
  {
   "cell_type": "code",
   "execution_count": 2,
   "id": "d8886149",
   "metadata": {},
   "outputs": [],
   "source": [
    "#Creating function for calculating bmi based on the formula\n",
    "def get_bmi(height, weight):\n",
    "    bmi = 0\n",
    "    bmi = round(weight / (height/100)**2, 2) \n",
    "    return bmi\n",
    "\n",
    "#Creating function for classifying the bmi category defined by WHO based on bmi calculated\n",
    "def get_bmi_category(bmi):\n",
    "    if bmi < 18.5:\n",
    "        bmi_category = 'Underweight'\n",
    "    elif bmi >= 18.5 and bmi < 25.0: \n",
    "        bmi_category = 'Normal'\n",
    "    else:\n",
    "        bmi_category = 'Overweight'\n",
    "    \n",
    "    return bmi_category\n",
    "\n",
    "#Creating function for calculating bmi prime based on the formula provided in wikipedia link\n",
    "def get_bmi_prime(bmi): \n",
    "    UPPER_BODY_LIMIT = 25\n",
    "    bmi_prime = round(bmi / UPPER_BODY_LIMIT, 2) \n",
    "    return bmi_prime"
   ]
  },
  {
   "cell_type": "markdown",
   "id": "3ad14bdd",
   "metadata": {},
   "source": [
    "### Task 1"
   ]
  },
  {
   "cell_type": "code",
   "execution_count": 3,
   "id": "543007f8",
   "metadata": {},
   "outputs": [],
   "source": [
    "#Creating identical python lists for storing names, heights and weights of atleast 5 friends/family members.\n",
    "names =[\"Karan\",\"Sid\",\"Neerav\",\"Hriday\",\"Jogesh\", \"Aishwarya\", \"Alex\"]\n",
    "heights = [181, 172, 177, 167, 174, 173, 180] # in centimetres \n",
    "weights = [85, 82, 59, 52, 63, 65, 89] # in kilograms"
   ]
  },
  {
   "cell_type": "code",
   "execution_count": 4,
   "id": "9a9f4228",
   "metadata": {},
   "outputs": [
    {
     "name": "stdout",
     "output_type": "stream",
     "text": [
      "[25.95, 27.72, 18.83, 18.65, 20.81, 21.72, 27.47]\n"
     ]
    }
   ],
   "source": [
    "#Calculating bmi and storing it in an empty array from the function defined at the start.\n",
    "bmis = [] #Empty array\n",
    "\n",
    "for i in range(len(names)): \n",
    "    bmis.append(get_bmi(heights[i], weights[i])) #Calculate BMI\n",
    "\n",
    "print(bmis)"
   ]
  },
  {
   "cell_type": "code",
   "execution_count": 5,
   "id": "8dc2e4d1",
   "metadata": {},
   "outputs": [
    {
     "data": {
      "image/png": "[encoded data removed]",
      "text/plain": [
       "<Figure size 432x288 with 1 Axes>"
      ]
     },
     "metadata": {
      "needs_background": "light"
     },
     "output_type": "display_data"
    }
   ],
   "source": [
    "#Plot barplot for BMI's\n",
    "plt.bar(names, bmis)\n",
    "plt.title(\"My Friends' BMIs\")\n",
    "plt.ylabel('BMIs')\n",
    "plt.show()"
   ]
  },
  {
   "cell_type": "markdown",
   "id": "d042893e",
   "metadata": {},
   "source": [
    "Conclusion:- \n",
    "\n",
    "-> Sid, Alex and Karan just falls above the normal BMI range and rest of them are under Normal BMI range.\n",
    "\n",
    "-> Sid has highest BMI and Hriday being lowest BMI accounting to 27.72 and 18.65 respectively."
   ]
  },
  {
   "cell_type": "code",
   "execution_count": 6,
   "id": "28cbcf5d",
   "metadata": {},
   "outputs": [
    {
     "name": "stdout",
     "output_type": "stream",
     "text": [
      "Karan has BMI of 25.95 which is Overweight\n",
      "Sid has BMI of 27.72 which is Overweight\n",
      "Neerav has BMI of 18.83 which is Normal\n",
      "Hriday has BMI of 18.65 which is Normal\n",
      "Jogesh has BMI of 20.81 which is Normal\n",
      "Aishwarya has BMI of 21.72 which is Normal\n",
      "Alex has BMI of 27.47 which is Overweight\n"
     ]
    }
   ],
   "source": [
    "#Print dynamic string\n",
    "for i in range(len(names)):\n",
    "    print(names[i], \"has BMI of\", bmis[i], \"which is\", get_bmi_category(bmis[i]))"
   ]
  },
  {
   "cell_type": "markdown",
   "id": "5e99c910",
   "metadata": {},
   "source": [
    "<b> ** Advantages and disadvantages of BMI ** </b>\n",
    "\n",
    "\n",
    "<n> -> Body mass index serves its purpose well in measuring obesity rates in a population. Because it is a general measure of obesity that will work for the majority of people, researchers can get a good idea of how rates of overweight and obesity differ over time or between populations, according to the Centers for Disease Control and Prevention.\n",
    "\n",
    "<n> \n",
    "    \n",
    "<n> -> Because BMI is simply a measure of your weight versus your height, it does not take into account where that weight comes from – lean tissue or fat. As a result, even if you have a normal \"healthy\" weight based on your BMI, you may still face health risks due to excess body fat.\n",
    "    \n",
    "    \n",
    "    \n",
    "<n> -> While BMI may underestimate the risk in people of normal weight but high body fat, it may overestimate the risk in people who are muscular and healthy. Someone who works out regularly may have a body weight that pushes their BMI into the \"overweight\" or \"obesity\" category, even if they have very little body fat – and thus be at a lower risk of obesity-related diseases than someone who is the same weight but has more fat tissue."
   ]
  },
  {
   "cell_type": "markdown",
   "id": "e0551778",
   "metadata": {},
   "source": [
    "### Task 2"
   ]
  },
  {
   "cell_type": "code",
   "execution_count": 7,
   "id": "8fb9f862",
   "metadata": {},
   "outputs": [
    {
     "name": "stdout",
     "output_type": "stream",
     "text": [
      "[1.04, 1.11, 0.75, 0.75, 0.83, 0.87, 1.1]\n"
     ]
    }
   ],
   "source": [
    "#Calculating bmi prime and storing it in an empty array from the function defined at the start.\n",
    "bmi_primes = [] #Empty array\n",
    "\n",
    "for i in range(len(bmis)):\n",
    "    bmi_primes.append(get_bmi_prime(bmis[i])) #Calculate BMI Prime\n",
    "    \n",
    "print(bmi_primes)"
   ]
  },
  {
   "cell_type": "code",
   "execution_count": 8,
   "id": "6e8770c6",
   "metadata": {},
   "outputs": [
    {
     "data": {
      "image/png": "[encoded data removed]",
      "text/plain": [
       "<Figure size 432x288 with 1 Axes>"
      ]
     },
     "metadata": {
      "needs_background": "light"
     },
     "output_type": "display_data"
    }
   ],
   "source": [
    "#Plot barplot for BMI's\n",
    "plt.bar(names, bmi_primes)\n",
    "plt.title(\"My Friends' BMI Prime\")\n",
    "plt.ylabel('BMI Prime')\n",
    "plt.show()"
   ]
  },
  {
   "cell_type": "markdown",
   "id": "3311fb00",
   "metadata": {},
   "source": [
    "Conclusion:- \n",
    "\n",
    "-> Sid, Alex and Karan just falls above BMI prime of 1 which is like a bit more than normal.\n",
    "\n",
    "-> Sid has highest BMI prime and Hriday and Neerav being lowest BMI prime accounting to 1.11 and 0.75 respectively."
   ]
  },
  {
   "cell_type": "code",
   "execution_count": 9,
   "id": "fc90d943",
   "metadata": {},
   "outputs": [
    {
     "name": "stdout",
     "output_type": "stream",
     "text": [
      "Karan has BMI of 25.95 which is Overweight \n",
      " The BMI Prime index is 1.04\n",
      "Sid has BMI of 27.72 which is Overweight \n",
      " The BMI Prime index is 1.11\n",
      "Neerav has BMI of 18.83 which is Normal \n",
      " The BMI Prime index is 0.75\n",
      "Hriday has BMI of 18.65 which is Normal \n",
      " The BMI Prime index is 0.75\n",
      "Jogesh has BMI of 20.81 which is Normal \n",
      " The BMI Prime index is 0.83\n",
      "Aishwarya has BMI of 21.72 which is Normal \n",
      " The BMI Prime index is 0.87\n",
      "Alex has BMI of 27.47 which is Overweight \n",
      " The BMI Prime index is 1.1\n"
     ]
    }
   ],
   "source": [
    "#Print dynamic string\n",
    "for i in range(len(names)):\n",
    "    print(names[i], \"has BMI of\", bmis[i], \"which is\", get_bmi_category(bmis[i]), \"\\n\", \"The BMI Prime index is\", bmi_primes[i])"
   ]
  },
  {
   "cell_type": "markdown",
   "id": "0fa61cbf",
   "metadata": {},
   "source": [
    "<b> ** Advantages and disadvantages of BMI Prime ** </b>\n",
    "\n",
    "-> BMI Prime is a ratio of a person's BMI to the \"healthy weight\" upper limit. It is intended to provide a quick answer to how far an individual's upper weight limits differ, as well as an easy comparison between people with different upper BMI weight limits. A BMI Prime between 0.74 and 1.00 is considered healthy. Upper weight limits for \"healthy weight\" are typically 23 in Southeast Asia and 25 worldwide.\n",
    "\n",
    "-> BMI Prime is an abbreviated version of BMI. It does, however, face many of the same challenges as the BMI system. Originally, BMI was intended to be an objective measurement of larger populations rather than individuals. \n",
    "BMI is commonly monitored alongside other variables in medical and health fields due to its simplicity and ease of measurement. BMI is not an absolute \"score\"; rather, it is an indicator. \n",
    "\n",
    "-> Some issues with BMI include: - It does not distinguish between people who have a lot of muscle and people who have a lot of fat - a very muscular person may have the same BMI as someone who has a lot of fat. It does not distinguish between body types that may carry weight in different areas of their bodies. It is critical to remember that BMI is an indicator rather than an absolute measure of health."
   ]
  }
 ],
 "metadata": {
  "kernelspec": {
   "display_name": "Python 3",
   "language": "python",
   "name": "python3"
  },
  "language_info": {
   "codemirror_mode": {
    "name": "ipython",
    "version": 3
   },
   "file_extension": ".py",
   "mimetype": "text/x-python",
   "name": "python",
   "nbconvert_exporter": "python",
   "pygments_lexer": "ipython3",
   "version": "3.8.8"
  }
 },
 "nbformat": 4,
 "nbformat_minor": 5
}
