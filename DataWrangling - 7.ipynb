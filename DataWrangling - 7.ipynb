{
 "cells": [
  {
   "cell_type": "markdown",
   "id": "e895f67e",
   "metadata": {},
   "source": [
    "<h2> Objective:- Task 5D: Working with pandas Data Frames Part 2 </h2>\n",
    "\n",
    "<div style=\"text-align: right\"> Done by: <b>Karan Murjani </b> </div>"
   ]
  },
  {
   "cell_type": "markdown",
   "id": "e3f0ec5f",
   "metadata": {},
   "source": [
    "### Intro : The standard Python library pandas is one of the most popular libraries used for data analysis and manipulation. Pandas is used to convert data into a structured format known as a DataFrame that can be used for a wide variety of operations and analytics. All the manipulation with data is done using pandas functions. This task was done using all the pandas function available."
   ]
  },
  {
   "cell_type": "code",
   "execution_count": 1,
   "id": "17076ff9",
   "metadata": {},
   "outputs": [],
   "source": [
    "#Dependency\n",
    "import pandas as pd\n",
    "import numpy as np\n",
    "import warnings\n",
    "import matplotlib.pyplot as plt \n",
    "from datetime import timedelta \n",
    "import sqlite3\n",
    "import tempfile\n",
    "import os.path\n",
    "warnings.filterwarnings('ignore')"
   ]
  },
  {
   "cell_type": "markdown",
   "id": "349da42b",
   "metadata": {},
   "source": [
    "### 1. Establish a connection with a new SQLite database on your disk."
   ]
  },
  {
   "cell_type": "code",
   "execution_count": 2,
   "id": "21f91b9f",
   "metadata": {},
   "outputs": [],
   "source": [
    "#Reading files\n",
    "nyc_airlines_df = pd.read_csv('nycflights13_airlines.csv')\n",
    "nyc_airport_df = pd.read_csv('nycflights13_airports.csv')\n",
    "nyc_flights_df = pd.read_csv('nycflights13_flights.csv')\n",
    "nyc_planes_df = pd.read_csv('nycflights13_planes.csv')\n",
    "nyc_weather_df = pd.read_csv('nycflights13_weather.csv')"
   ]
  },
  {
   "cell_type": "code",
   "execution_count": 3,
   "id": "58bb2145",
   "metadata": {},
   "outputs": [
    {
     "name": "stdout",
     "output_type": "stream",
     "text": [
      "/var/folders/nr/ksh5z2r56031_6w99r5fbgmm0000gn/T/tmp31ya62ej/nycflights.db\n"
     ]
    }
   ],
   "source": [
    "#Establish connection\n",
    "dbfile = os.path.join(tempfile.mkdtemp(), \"nycflights.db\") \n",
    "print(dbfile)\n",
    "\n",
    "#Establishing the connection to the database\n",
    "conn = sqlite3.connect(dbfile)"
   ]
  },
  {
   "cell_type": "markdown",
   "id": "433e5afb",
   "metadata": {},
   "source": [
    "### 2. Export all the CSV files to the said database."
   ]
  },
  {
   "cell_type": "code",
   "execution_count": 4,
   "id": "920ac0eb",
   "metadata": {},
   "outputs": [],
   "source": [
    "nyc_airlines_df.to_sql(\"Airline\", conn, index = False)\n",
    "nyc_airport_df.to_sql(\"Airport\", conn, index = False)\n",
    "nyc_planes_df.to_sql(\"Planes\", conn, index = False)\n",
    "nyc_weather_df.to_sql(\"Weather\", conn, index = False)\n",
    "nyc_flights_df.to_sql(\"Flights\", conn, index = False)"
   ]
  },
  {
   "cell_type": "code",
   "execution_count": 5,
   "id": "dd8e893e",
   "metadata": {},
   "outputs": [
    {
     "data": {
      "text/html": [
       "<div>\n",
       "<style scoped>\n",
       "    .dataframe tbody tr th:only-of-type {\n",
       "        vertical-align: middle;\n",
       "    }\n",
       "\n",
       "    .dataframe tbody tr th {\n",
       "        vertical-align: top;\n",
       "    }\n",
       "\n",
       "    .dataframe thead th {\n",
       "        text-align: right;\n",
       "    }\n",
       "</style>\n",
       "<table border=\"1\" class=\"dataframe\">\n",
       "  <thead>\n",
       "    <tr style=\"text-align: right;\">\n",
       "      <th></th>\n",
       "      <th>tailnum</th>\n",
       "      <th>year</th>\n",
       "      <th>type</th>\n",
       "      <th>manufacturer</th>\n",
       "      <th>model</th>\n",
       "      <th>engines</th>\n",
       "      <th>seats</th>\n",
       "      <th>speed</th>\n",
       "      <th>engine</th>\n",
       "    </tr>\n",
       "  </thead>\n",
       "  <tbody>\n",
       "    <tr>\n",
       "      <th>0</th>\n",
       "      <td>N10156</td>\n",
       "      <td>2004.0</td>\n",
       "      <td>Fixed wing multi engine</td>\n",
       "      <td>EMBRAER</td>\n",
       "      <td>EMB-145XR</td>\n",
       "      <td>2</td>\n",
       "      <td>55</td>\n",
       "      <td>NaN</td>\n",
       "      <td>Turbo-fan</td>\n",
       "    </tr>\n",
       "    <tr>\n",
       "      <th>1</th>\n",
       "      <td>N102UW</td>\n",
       "      <td>1998.0</td>\n",
       "      <td>Fixed wing multi engine</td>\n",
       "      <td>AIRBUS INDUSTRIE</td>\n",
       "      <td>A320-214</td>\n",
       "      <td>2</td>\n",
       "      <td>182</td>\n",
       "      <td>NaN</td>\n",
       "      <td>Turbo-fan</td>\n",
       "    </tr>\n",
       "    <tr>\n",
       "      <th>2</th>\n",
       "      <td>N103US</td>\n",
       "      <td>1999.0</td>\n",
       "      <td>Fixed wing multi engine</td>\n",
       "      <td>AIRBUS INDUSTRIE</td>\n",
       "      <td>A320-214</td>\n",
       "      <td>2</td>\n",
       "      <td>182</td>\n",
       "      <td>NaN</td>\n",
       "      <td>Turbo-fan</td>\n",
       "    </tr>\n",
       "    <tr>\n",
       "      <th>3</th>\n",
       "      <td>N104UW</td>\n",
       "      <td>1999.0</td>\n",
       "      <td>Fixed wing multi engine</td>\n",
       "      <td>AIRBUS INDUSTRIE</td>\n",
       "      <td>A320-214</td>\n",
       "      <td>2</td>\n",
       "      <td>182</td>\n",
       "      <td>NaN</td>\n",
       "      <td>Turbo-fan</td>\n",
       "    </tr>\n",
       "    <tr>\n",
       "      <th>4</th>\n",
       "      <td>N10575</td>\n",
       "      <td>2002.0</td>\n",
       "      <td>Fixed wing multi engine</td>\n",
       "      <td>EMBRAER</td>\n",
       "      <td>EMB-145LR</td>\n",
       "      <td>2</td>\n",
       "      <td>55</td>\n",
       "      <td>NaN</td>\n",
       "      <td>Turbo-fan</td>\n",
       "    </tr>\n",
       "  </tbody>\n",
       "</table>\n",
       "</div>"
      ],
      "text/plain": [
       "  tailnum    year                     type      manufacturer      model  \\\n",
       "0  N10156  2004.0  Fixed wing multi engine           EMBRAER  EMB-145XR   \n",
       "1  N102UW  1998.0  Fixed wing multi engine  AIRBUS INDUSTRIE   A320-214   \n",
       "2  N103US  1999.0  Fixed wing multi engine  AIRBUS INDUSTRIE   A320-214   \n",
       "3  N104UW  1999.0  Fixed wing multi engine  AIRBUS INDUSTRIE   A320-214   \n",
       "4  N10575  2002.0  Fixed wing multi engine           EMBRAER  EMB-145LR   \n",
       "\n",
       "   engines  seats  speed     engine  \n",
       "0        2     55    NaN  Turbo-fan  \n",
       "1        2    182    NaN  Turbo-fan  \n",
       "2        2    182    NaN  Turbo-fan  \n",
       "3        2    182    NaN  Turbo-fan  \n",
       "4        2     55    NaN  Turbo-fan  "
      ]
     },
     "execution_count": 5,
     "metadata": {},
     "output_type": "execute_result"
    }
   ],
   "source": [
    "nyc_planes_df.head()"
   ]
  },
  {
   "cell_type": "markdown",
   "id": "b2a84da2",
   "metadata": {},
   "source": [
    "### 3. For each of the SQL queries below (each query in a separate section), write the code that yields equivalent results using pandas only and explain – in your own words – what it does"
   ]
  },
  {
   "cell_type": "markdown",
   "id": "1abc1b94",
   "metadata": {},
   "source": [
    "###### Query 1:"
   ]
  },
  {
   "cell_type": "code",
   "execution_count": 6,
   "id": "7f9713a8",
   "metadata": {},
   "outputs": [
    {
     "name": "stdout",
     "output_type": "stream",
     "text": [
      "Result from SQL Query:\n",
      "          engine\n",
      "0      Turbo-fan\n",
      "1      Turbo-jet\n",
      "2  Reciprocating\n",
      "3        4 Cycle\n",
      "4    Turbo-shaft\n",
      "5     Turbo-prop\n",
      "\n",
      "Result from Pandas:\n",
      "['Turbo-fan' 'Turbo-jet' 'Reciprocating' '4 Cycle' 'Turbo-shaft'\n",
      " 'Turbo-prop']\n"
     ]
    }
   ],
   "source": [
    "#Query\n",
    "task1_sql = pd.read_sql_query(\"\"\" \n",
    "    SELECT DISTINCT engine FROM planes\n",
    "\"\"\", conn) \n",
    "\n",
    "#Pandas filter\n",
    "task1_my = nyc_planes_df['engine'].unique()\n",
    "\n",
    "#Result print\n",
    "print('Result from SQL Query:')\n",
    "print(task1_sql)\n",
    "print('\\nResult from Pandas:')\n",
    "print(task1_my)"
   ]
  },
  {
   "cell_type": "markdown",
   "id": "3b3f611b",
   "metadata": {},
   "source": [
    "##### Here for pandas implementation I have used unique function from pandas which gives me all the unique values from engine column just like Distinct in SQL"
   ]
  },
  {
   "cell_type": "markdown",
   "id": "3e92186a",
   "metadata": {},
   "source": [
    "###### Query 2:"
   ]
  },
  {
   "cell_type": "code",
   "execution_count": 7,
   "id": "925d5448",
   "metadata": {},
   "outputs": [
    {
     "name": "stdout",
     "output_type": "stream",
     "text": [
      "Result from SQL Query:\n",
      "                       type         engine\n",
      "0   Fixed wing multi engine      Turbo-fan\n",
      "1   Fixed wing multi engine      Turbo-jet\n",
      "2  Fixed wing single engine  Reciprocating\n",
      "3   Fixed wing multi engine  Reciprocating\n",
      "4  Fixed wing single engine        4 Cycle\n",
      "5                Rotorcraft    Turbo-shaft\n",
      "6   Fixed wing multi engine     Turbo-prop\n",
      "\n",
      "Result from Pandas:\n",
      "                       type         engine\n",
      "0   Fixed wing multi engine      Turbo-fan\n",
      "1   Fixed wing multi engine      Turbo-jet\n",
      "2  Fixed wing single engine  Reciprocating\n",
      "3   Fixed wing multi engine  Reciprocating\n",
      "4  Fixed wing single engine        4 Cycle\n",
      "5                Rotorcraft    Turbo-shaft\n",
      "6   Fixed wing multi engine     Turbo-prop\n"
     ]
    }
   ],
   "source": [
    "#Query\n",
    "task2_sql = pd.read_sql_query(\"\"\" \n",
    "    SELECT DISTINCT type, engine FROM planes\n",
    "\"\"\", conn) \n",
    "\n",
    "#Pandas filter\n",
    "task2_my = pd.DataFrame(data = nyc_planes_df[['type', 'engine']].drop_duplicates().\n",
    "                        reset_index(), columns=['type', 'engine'])\n",
    "\n",
    "#Result print\n",
    "print('Result from SQL Query:')\n",
    "print(task2_sql)\n",
    "print('\\nResult from Pandas:')\n",
    "print(task2_my)"
   ]
  },
  {
   "cell_type": "markdown",
   "id": "7263225b",
   "metadata": {},
   "source": [
    "##### Here for pandas implementation I have created new dataframe and inserted the columns required and used drop_duplicates function for keeping unique values from type and engine just like Distinct in SQL"
   ]
  },
  {
   "cell_type": "markdown",
   "id": "53f4100e",
   "metadata": {},
   "source": [
    "###### Query 3:"
   ]
  },
  {
   "cell_type": "code",
   "execution_count": 8,
   "id": "1f71021f",
   "metadata": {},
   "outputs": [
    {
     "name": "stdout",
     "output_type": "stream",
     "text": [
      "Result from SQL Query:\n",
      "   COUNT(*)         engine\n",
      "0         2        4 Cycle\n",
      "1        28  Reciprocating\n",
      "2      2750      Turbo-fan\n",
      "3       535      Turbo-jet\n",
      "4         2     Turbo-prop\n",
      "\n",
      "Result from Pandas:\n",
      "          engine  Count(*)\n",
      "0        4 Cycle         2\n",
      "1  Reciprocating        28\n",
      "2      Turbo-fan      2750\n",
      "3      Turbo-jet       535\n",
      "4     Turbo-prop         2\n"
     ]
    }
   ],
   "source": [
    "#Query\n",
    "task3_sql = pd.read_sql_query(\"\"\" \n",
    "    SELECT COUNT(*), engine FROM planes GROUP BY engine\n",
    "\"\"\", conn) \n",
    "\n",
    "#Pandas filter\n",
    "task3_my = nyc_planes_df.groupby(['engine']).size().reset_index(name='Count(*)')\n",
    "\n",
    "#Result print\n",
    "print('Result from SQL Query:')\n",
    "print(task3_sql.head(5))\n",
    "print('\\nResult from Pandas:')\n",
    "print(task3_my.head(5))"
   ]
  },
  {
   "cell_type": "markdown",
   "id": "2c34a5b2",
   "metadata": {},
   "source": [
    "##### Here for pandas implementation I have used groupby function from pandas and aggregate function is just count and later renamed the column."
   ]
  },
  {
   "cell_type": "markdown",
   "id": "749b3029",
   "metadata": {},
   "source": [
    "###### Query 4:"
   ]
  },
  {
   "cell_type": "code",
   "execution_count": 9,
   "id": "0a93b7a4",
   "metadata": {},
   "outputs": [
    {
     "name": "stdout",
     "output_type": "stream",
     "text": [
      "Result from SQL Query:\n",
      "   COUNT(*)         engine                      type\n",
      "0         2        4 Cycle  Fixed wing single engine\n",
      "1         5  Reciprocating   Fixed wing multi engine\n",
      "2        23  Reciprocating  Fixed wing single engine\n",
      "3      2750      Turbo-fan   Fixed wing multi engine\n",
      "4       535      Turbo-jet   Fixed wing multi engine\n",
      "\n",
      "Result from Pandas:\n",
      "          engine                      type  Count(*)\n",
      "0        4 Cycle  Fixed wing single engine         2\n",
      "1  Reciprocating   Fixed wing multi engine         5\n",
      "2  Reciprocating  Fixed wing single engine        23\n",
      "3      Turbo-fan   Fixed wing multi engine      2750\n",
      "4      Turbo-jet   Fixed wing multi engine       535\n"
     ]
    }
   ],
   "source": [
    "#Query\n",
    "task4_sql = pd.read_sql_query(\"\"\" \n",
    "    SELECT COUNT(*), engine, type FROM planes GROUP BY engine, type\n",
    "\"\"\", conn) \n",
    "\n",
    "#Pandas filter\n",
    "task4_my=(nyc_planes_df.groupby(['engine', 'type']).size().\n",
    "          reset_index(name='Count(*)'))\n",
    "\n",
    "#Result print\n",
    "print('Result from SQL Query:')\n",
    "print(task4_sql.head(5))\n",
    "print('\\nResult from Pandas:')\n",
    "print(task4_my.head(5))"
   ]
  },
  {
   "cell_type": "markdown",
   "id": "7466fadc",
   "metadata": {},
   "source": [
    "##### Here for pandas implementation I have used groupby function from pandas but groupby on more than one column i.e. engine and type and aggregate function is just count and later renamed the column."
   ]
  },
  {
   "cell_type": "markdown",
   "id": "5799d4d7",
   "metadata": {},
   "source": [
    "###### Query 5:"
   ]
  },
  {
   "cell_type": "code",
   "execution_count": 10,
   "id": "8154859f",
   "metadata": {},
   "outputs": [
    {
     "name": "stdout",
     "output_type": "stream",
     "text": [
      "Result from SQL Query:\n",
      "   MIN(year)  AVG(year)  MAX(year)         engine           manufacturer\n",
      "0     1975.0     1975.0     1975.0        4 Cycle                 CESSNA\n",
      "1        NaN        NaN        NaN        4 Cycle            JOHN G HESS\n",
      "2        NaN        NaN        NaN  Reciprocating  AMERICAN AIRCRAFT INC\n",
      "3     2007.0     2007.0     2007.0  Reciprocating     AVIAT AIRCRAFT INC\n",
      "4        NaN        NaN        NaN  Reciprocating          BARKER JACK L\n",
      "\n",
      "Result from Pandas:\n",
      "   MIN(year)  AVG(year)  MAX(year)         engine           manufacturer\n",
      "0     1975.0     1975.0     1975.0        4 Cycle                 CESSNA\n",
      "1        NaN        NaN        NaN        4 Cycle            JOHN G HESS\n",
      "2        NaN        NaN        NaN  Reciprocating  AMERICAN AIRCRAFT INC\n",
      "3     2007.0     2007.0     2007.0  Reciprocating     AVIAT AIRCRAFT INC\n",
      "4        NaN        NaN        NaN  Reciprocating          BARKER JACK L\n"
     ]
    }
   ],
   "source": [
    "#Query\n",
    "task5_sql = pd.read_sql_query(\"\"\" \n",
    "    SELECT MIN(year), AVG(year), MAX(year), engine, manufacturer \n",
    "    FROM planes \n",
    "    GROUP BY engine, manufacturer\n",
    "\"\"\", conn) \n",
    "\n",
    "#Pandas filter\n",
    "task5_my = (nyc_planes_df.groupby(['engine', 'manufacturer'])['year'].\n",
    "            aggregate([\"min\", \"mean\", \"max\"]).reset_index())\n",
    "task5_my = task5_my.rename(columns={'min':'MIN(year)', 'mean':'AVG(year)', \n",
    "                                    'max':'MAX(year)'})\n",
    "task5_my = task5_my.reindex([\"MIN(year)\", \"AVG(year)\", \"MAX(year)\", \n",
    "                             \"engine\", \"manufacturer\"], axis=1)\n",
    "\n",
    "#Result print\n",
    "print('Result from SQL Query:')\n",
    "print(task5_sql.head(5))\n",
    "print('\\nResult from Pandas:')\n",
    "print(task5_my.head(5))"
   ]
  },
  {
   "cell_type": "markdown",
   "id": "8b79f5a6",
   "metadata": {},
   "source": [
    "##### Here for pandas implementation I have used groupby function from pandas on engine and manufacturer and aggregate function min, mean, max for year values and later renamed the column and reindexing"
   ]
  },
  {
   "cell_type": "markdown",
   "id": "83ab0905",
   "metadata": {},
   "source": [
    "###### Query 6:"
   ]
  },
  {
   "cell_type": "code",
   "execution_count": 11,
   "id": "806d650e",
   "metadata": {},
   "outputs": [
    {
     "name": "stdout",
     "output_type": "stream",
     "text": [
      "Result from SQL Query:\n",
      "  tailnum    year                      type manufacturer      model  engines  \\\n",
      "0  N201AA  1959.0  Fixed wing single engine       CESSNA        150        1   \n",
      "1  N202AA  1980.0   Fixed wing multi engine       CESSNA       421C        2   \n",
      "2  N350AA  1980.0   Fixed wing multi engine        PIPER  PA-31-350        2   \n",
      "3  N364AA  1973.0   Fixed wing multi engine       CESSNA       310Q        2   \n",
      "4  N378AA  1963.0  Fixed wing single engine       CESSNA       172E        1   \n",
      "\n",
      "   seats  speed         engine  \n",
      "0      2   90.0  Reciprocating  \n",
      "1      8   90.0  Reciprocating  \n",
      "2      8  162.0  Reciprocating  \n",
      "3      6  167.0  Reciprocating  \n",
      "4      4  105.0  Reciprocating  \n",
      "\n",
      "Result from Pandas:\n",
      "  tailnum    year                      type manufacturer      model  engines  \\\n",
      "0  N201AA  1959.0  Fixed wing single engine       CESSNA        150        1   \n",
      "1  N202AA  1980.0   Fixed wing multi engine       CESSNA       421C        2   \n",
      "2  N350AA  1980.0   Fixed wing multi engine        PIPER  PA-31-350        2   \n",
      "3  N364AA  1973.0   Fixed wing multi engine       CESSNA       310Q        2   \n",
      "4  N378AA  1963.0  Fixed wing single engine       CESSNA       172E        1   \n",
      "\n",
      "   seats  speed         engine  \n",
      "0      2   90.0  Reciprocating  \n",
      "1      8   90.0  Reciprocating  \n",
      "2      8  162.0  Reciprocating  \n",
      "3      6  167.0  Reciprocating  \n",
      "4      4  105.0  Reciprocating  \n"
     ]
    }
   ],
   "source": [
    "#Query\n",
    "task6_sql = pd.read_sql_query(\"\"\" \n",
    "    SELECT * FROM planes WHERE speed IS NOT NULL\n",
    "\"\"\", conn) \n",
    "\n",
    "#Pandas filter\n",
    "task6_my = nyc_planes_df.query('speed==speed')\n",
    "\n",
    "#Result print\n",
    "print('Result from SQL Query:')\n",
    "print(task6_sql.head(5))\n",
    "print('\\nResult from Pandas:')\n",
    "print(task6_sql.head(5))"
   ]
  },
  {
   "cell_type": "markdown",
   "id": "40c8b0fd",
   "metadata": {},
   "source": [
    "##### Here for pandas implementation I have filtered all the rows where there is no null values by .query function."
   ]
  },
  {
   "cell_type": "markdown",
   "id": "b319ef56",
   "metadata": {},
   "source": [
    "###### Query 7:"
   ]
  },
  {
   "cell_type": "code",
   "execution_count": 12,
   "id": "fb90ffe0",
   "metadata": {},
   "outputs": [
    {
     "name": "stdout",
     "output_type": "stream",
     "text": [
      "Result from SQL Query:\n",
      "  tailnum\n",
      "0  N361VA\n",
      "1  N849VA\n",
      "2  N851VA\n",
      "3  N852VA\n",
      "4  N853VA\n",
      "\n",
      "Result from Pandas:\n",
      "0    N361VA\n",
      "1    N849VA\n",
      "2    N851VA\n",
      "3    N852VA\n",
      "4    N853VA\n",
      "Name: tailnum, dtype: object\n"
     ]
    }
   ],
   "source": [
    "task7_sql = pd.read_sql_query(\"\"\"\n",
    "    SELECT tailnum FROM planes\n",
    "    WHERE seats BETWEEN 150 AND 190 AND year >= 2012\n",
    "\"\"\", conn)\n",
    "\n",
    "task7_my = (nyc_planes_df.query('(year >= 2012) and ((seats>=150) and (seats<=190))')\n",
    "            ['tailnum']).reset_index(drop=True)\n",
    "\n",
    "#Result print\n",
    "print('Result from SQL Query:')\n",
    "print(task7_sql.head(5))\n",
    "print('\\nResult from Pandas:')\n",
    "print(task7_my.head(5))"
   ]
  },
  {
   "cell_type": "markdown",
   "id": "921c4e11",
   "metadata": {},
   "source": [
    "##### Here for pandas implementation I have filtered all the rows where as asked in the question by .query function."
   ]
  },
  {
   "cell_type": "markdown",
   "id": "42ddb2ea",
   "metadata": {},
   "source": [
    "###### Query 8:"
   ]
  },
  {
   "cell_type": "code",
   "execution_count": 13,
   "id": "b044d0c7",
   "metadata": {},
   "outputs": [
    {
     "name": "stdout",
     "output_type": "stream",
     "text": [
      "Result from SQL Query:\n",
      "  tailnum manufacturer  seats\n",
      "0  N206UA       BOEING    400\n",
      "1  N228UA       BOEING    400\n",
      "2  N272AT       BOEING    400\n",
      "3  N57016       BOEING    400\n",
      "4  N670US       BOEING    450\n",
      "\n",
      "Result from Pandas:\n",
      "     tailnum manufacturer  seats\n",
      "439   N206UA       BOEING    400\n",
      "484   N228UA       BOEING    400\n",
      "577   N272AT       BOEING    400\n",
      "1708  N57016       BOEING    400\n",
      "2109  N670US       BOEING    450\n"
     ]
    }
   ],
   "source": [
    "task8_sql = pd.read_sql_query(\"\"\"\n",
    "    SELECT tailnum, manufacturer, seats FROM planes\n",
    "    WHERE manufacturer IN (\"BOEING\", \"AIRBUS\", \"EMBRAER\") AND seats>390\n",
    "\"\"\", conn)\n",
    "\n",
    "filter = [\"BOEING\", \"AIRBUS\", \"EMBRAER\"]\n",
    "task8_my = (nyc_planes_df.query('(manufacturer==@filter) and (seats>390)')\n",
    "            [['tailnum', 'manufacturer', 'seats']])\n",
    "\n",
    "#Result print\n",
    "print('Result from SQL Query:')\n",
    "print(task8_sql.head(5))\n",
    "print('\\nResult from Pandas:')\n",
    "print(task8_my.head(5))"
   ]
  },
  {
   "cell_type": "markdown",
   "id": "b81c9aa9",
   "metadata": {},
   "source": [
    "##### Here for pandas implementation I have filtered all the rows where as asked in the question by .query function."
   ]
  },
  {
   "cell_type": "markdown",
   "id": "b9f15b47",
   "metadata": {},
   "source": [
    "###### Query 9:"
   ]
  },
  {
   "cell_type": "code",
   "execution_count": 14,
   "id": "b6975997",
   "metadata": {},
   "outputs": [
    {
     "name": "stdout",
     "output_type": "stream",
     "text": [
      "Result from SQL Query:\n",
      "     year  seats\n",
      "0  2012.0    379\n",
      "1  2012.0    377\n",
      "2  2012.0    260\n",
      "3  2012.0    222\n",
      "4  2012.0    200\n",
      "\n",
      "Result from Pandas:\n",
      "     year  seats\n",
      "0  2012.0    379\n",
      "1  2012.0    377\n",
      "2  2012.0    260\n",
      "3  2012.0    222\n",
      "4  2012.0    200\n"
     ]
    }
   ],
   "source": [
    "task9_sql = pd.read_sql_query(\"\"\"\n",
    "    SELECT DISTINCT year, seats FROM planes\n",
    "    WHERE year >= 2012 ORDER BY year ASC, seats DESC\n",
    "\"\"\", conn)\n",
    "\n",
    "task9_my = (nyc_planes_df.query('year>=2012')[['year', 'seats']].drop_duplicates().\n",
    "            sort_values([\"year\", \"seats\"], ascending = [True, False]).\n",
    "            reset_index(drop=True))\n",
    "\n",
    "#Result print\n",
    "print('Result from SQL Query:')\n",
    "print(task9_sql.head(5))\n",
    "print('\\nResult from Pandas:')\n",
    "print(task9_my.head(5))"
   ]
  },
  {
   "cell_type": "markdown",
   "id": "f94ea1b4",
   "metadata": {},
   "source": [
    "##### Here for pandas implementation I have filtered all the rows where as asked in the question by .query function. Later on I have dropped duplicate values, sorted values as asked in the question by resetting the index at the end."
   ]
  },
  {
   "cell_type": "markdown",
   "id": "306e789d",
   "metadata": {},
   "source": [
    "###### Query 10:"
   ]
  },
  {
   "cell_type": "code",
   "execution_count": 15,
   "id": "a923cdb6",
   "metadata": {},
   "outputs": [
    {
     "name": "stdout",
     "output_type": "stream",
     "text": [
      "Result from SQL Query:\n",
      "     year  seats\n",
      "0  2012.0    379\n",
      "1  2013.0    379\n",
      "2  2012.0    377\n",
      "3  2013.0    377\n",
      "4  2012.0    260\n",
      "\n",
      "Result from Pandas:\n",
      "     year  seats\n",
      "0  2012.0    379\n",
      "1  2013.0    379\n",
      "2  2012.0    377\n",
      "3  2013.0    377\n",
      "4  2012.0    260\n"
     ]
    }
   ],
   "source": [
    "task10_sql = pd.read_sql_query(\"\"\"\n",
    "    SELECT DISTINCT year, seats FROM planes\n",
    "    WHERE year >= 2012 ORDER BY seats DESC, year ASC\n",
    "\"\"\", conn)\n",
    "\n",
    "task10_my = (nyc_planes_df.query('year>=2012')[['year', 'seats']].drop_duplicates().\n",
    "            sort_values([\"seats\", \"year\"], ascending = [False, True]).\n",
    "             reset_index(drop=True))\n",
    "\n",
    "#Result print\n",
    "print('Result from SQL Query:')\n",
    "print(task10_sql.head(5))\n",
    "print('\\nResult from Pandas:')\n",
    "print(task10_my.head(5))"
   ]
  },
  {
   "cell_type": "markdown",
   "id": "70685089",
   "metadata": {},
   "source": [
    "##### This is pretty similar to previous question, just the sorting is changed as asked."
   ]
  },
  {
   "cell_type": "markdown",
   "id": "408073e2",
   "metadata": {},
   "source": [
    "###### Query 11:"
   ]
  },
  {
   "cell_type": "code",
   "execution_count": 16,
   "id": "9f917a3a",
   "metadata": {},
   "outputs": [
    {
     "name": "stdout",
     "output_type": "stream",
     "text": [
      "Result from SQL Query:\n",
      "       manufacturer  COUNT(*)\n",
      "0            AIRBUS        66\n",
      "1  AIRBUS INDUSTRIE         4\n",
      "2            BOEING       225\n",
      "\n",
      "Result from Pandas:\n",
      "       manufacturer  COUNT(*)\n",
      "0            AIRBUS        66\n",
      "1  AIRBUS INDUSTRIE         4\n",
      "2            BOEING       225\n"
     ]
    }
   ],
   "source": [
    "task11_sql = pd.read_sql_query(\"\"\"\n",
    "    SELECT manufacturer, COUNT(*) \n",
    "    FROM planes WHERE seats > 200 GROUP BY manufacturer\n",
    "\"\"\", conn)\n",
    "\n",
    "task11_my = (nyc_planes_df.query('seats>200').groupby('manufacturer').size().\n",
    "             reset_index().rename(columns = {0:\"COUNT(*)\"}))\n",
    "\n",
    "#Result print\n",
    "print('Result from SQL Query:')\n",
    "print(task11_sql.head(5))\n",
    "print('\\nResult from Pandas:')\n",
    "print(task11_my.head(5))"
   ]
  },
  {
   "cell_type": "markdown",
   "id": "bd5587f7",
   "metadata": {},
   "source": [
    "##### Here for pandas implementation I have filtered the data with seats more than 200 and then used groupby function on manufacturer for counting how many rows."
   ]
  },
  {
   "cell_type": "markdown",
   "id": "ec6b0186",
   "metadata": {},
   "source": [
    "###### Query 12:"
   ]
  },
  {
   "cell_type": "code",
   "execution_count": 17,
   "id": "6ecaa077",
   "metadata": {},
   "outputs": [
    {
     "name": "stdout",
     "output_type": "stream",
     "text": [
      "Result from SQL Query:\n",
      "       manufacturer  COUNT(*)\n",
      "0            AIRBUS       336\n",
      "1  AIRBUS INDUSTRIE       400\n",
      "2            BOEING      1630\n",
      "3    BOMBARDIER INC       368\n",
      "4           EMBRAER       299\n",
      "\n",
      "Result from Pandas:\n",
      "       manufacturer  COUNT(*)\n",
      "0            AIRBUS       336\n",
      "1  AIRBUS INDUSTRIE       400\n",
      "2            BOEING      1630\n",
      "3    BOMBARDIER INC       368\n",
      "4           EMBRAER       299\n"
     ]
    }
   ],
   "source": [
    "task12_sql = pd.read_sql_query(\"\"\"\n",
    "    SELECT manufacturer, COUNT(*)\n",
    "    FROM planes GROUP BY manufacturer HAVING COUNT(*) > 10\n",
    "\"\"\", conn)\n",
    "\n",
    "task12_my = (nyc_planes_df.groupby('manufacturer').size().reset_index().\n",
    "             rename(columns = {0:\"COUNT(*)\"}))\n",
    "\n",
    "task12_my = task12_my.query('`COUNT(*)`>10').reset_index(drop=True)\n",
    "\n",
    "#Result print\n",
    "print('Result from SQL Query:')\n",
    "print(task12_sql.head(5))\n",
    "print('\\nResult from Pandas:')\n",
    "print(task12_my.head(5))"
   ]
  },
  {
   "cell_type": "markdown",
   "id": "fc01419b",
   "metadata": {},
   "source": [
    "##### Here for pandas implementation used groupby function on manufacturer for counting how many rows."
   ]
  },
  {
   "cell_type": "code",
   "execution_count": 18,
   "id": "fa4686c1",
   "metadata": {},
   "outputs": [],
   "source": [
    "pd.testing.assert_frame_equal(task12_sql, task12_my)"
   ]
  },
  {
   "cell_type": "markdown",
   "id": "261b9b3a",
   "metadata": {},
   "source": [
    "###### Query 13:"
   ]
  },
  {
   "cell_type": "code",
   "execution_count": 19,
   "id": "19b3b1bc",
   "metadata": {},
   "outputs": [
    {
     "name": "stdout",
     "output_type": "stream",
     "text": [
      "Result from SQL Query:\n",
      "  manufacturer  COUNT(*)\n",
      "0       AIRBUS        66\n",
      "1       BOEING       225\n",
      "\n",
      "Result from Pandas:\n",
      "  manufacturer  COUNT(*)\n",
      "0       AIRBUS        66\n",
      "1       BOEING       225\n"
     ]
    }
   ],
   "source": [
    "task13_sql = pd.read_sql_query(\"\"\"\n",
    "    SELECT manufacturer, COUNT(*) FROM planes\n",
    "    WHERE seats > 200 GROUP BY manufacturer HAVING COUNT(*) > 10\n",
    "\"\"\", conn)\n",
    "\n",
    "task13_my = (nyc_planes_df.query(\"seats>200\").groupby('manufacturer').size().\n",
    "             reset_index().rename(columns = {0:\"COUNT(*)\"}))\n",
    "task13_my = task13_my.query('`COUNT(*)`>10').reset_index(drop=True)\n",
    "\n",
    "#Result print\n",
    "print('Result from SQL Query:')\n",
    "print(task13_sql.head(5))\n",
    "print('\\nResult from Pandas:')\n",
    "print(task13_my.head(5))"
   ]
  },
  {
   "cell_type": "markdown",
   "id": "a217ce91",
   "metadata": {},
   "source": [
    "##### Here for pandas implementation I have filtered the data with seats more than 200 and then used groupby function on manufacturer for counting how many rows. Later on, I have filtered the records which has count(*) more than 10."
   ]
  },
  {
   "cell_type": "code",
   "execution_count": 20,
   "id": "d15d0f45",
   "metadata": {},
   "outputs": [],
   "source": [
    "pd.testing.assert_frame_equal(task13_sql, task13_my)"
   ]
  },
  {
   "cell_type": "markdown",
   "id": "02383f1b",
   "metadata": {},
   "source": [
    "###### Query 14:"
   ]
  },
  {
   "cell_type": "code",
   "execution_count": 21,
   "id": "fff6a560",
   "metadata": {},
   "outputs": [
    {
     "name": "stdout",
     "output_type": "stream",
     "text": [
      "Result from SQL Query:\n",
      "       manufacturer  howmany\n",
      "0            BOEING     1630\n",
      "1  AIRBUS INDUSTRIE      400\n",
      "2    BOMBARDIER INC      368\n",
      "3            AIRBUS      336\n",
      "4           EMBRAER      299\n",
      "\n",
      "Result from Pandas:\n",
      "       manufacturer  howmany\n",
      "0            BOEING     1630\n",
      "1  AIRBUS INDUSTRIE      400\n",
      "2    BOMBARDIER INC      368\n",
      "3            AIRBUS      336\n",
      "4           EMBRAER      299\n"
     ]
    }
   ],
   "source": [
    "task14_sql = pd.read_sql_query(\"\"\"\n",
    "   SELECT manufacturer, COUNT(*) AS howmany\n",
    "    FROM planes\n",
    "    GROUP BY manufacturer\n",
    "    ORDER BY howmany DESC LIMIT 5\n",
    "\"\"\", conn)\n",
    "\n",
    "task14_my = (nyc_planes_df.groupby('manufacturer').size().reset_index().\n",
    "             rename(columns = {0:\"howmany\"}))\n",
    "task14_my = (task14_my.sort_values(\"howmany\", ascending=False).head(5).\n",
    "             reset_index(drop=True))\n",
    "\n",
    "#Result print\n",
    "print('Result from SQL Query:')\n",
    "print(task14_sql.head(5))\n",
    "print('\\nResult from Pandas:')\n",
    "print(task14_my.head(5))"
   ]
  },
  {
   "cell_type": "markdown",
   "id": "1f9fa31e",
   "metadata": {},
   "source": [
    "##### Here for pandas implementation I have used groupby function on manufacturer for counting how many rows and then sorted the values by descending order."
   ]
  },
  {
   "cell_type": "code",
   "execution_count": 22,
   "id": "a70fc87d",
   "metadata": {},
   "outputs": [],
   "source": [
    "pd.testing.assert_frame_equal(task14_sql, task14_my)"
   ]
  },
  {
   "cell_type": "markdown",
   "id": "6768353a",
   "metadata": {},
   "source": [
    "###### Query 15:"
   ]
  },
  {
   "cell_type": "code",
   "execution_count": 23,
   "id": "5073d8a8",
   "metadata": {},
   "outputs": [
    {
     "name": "stdout",
     "output_type": "stream",
     "text": [
      "Result from SQL Query:\n",
      "   year  month  day  dep_time  sched_dep_time  dep_delay  arr_time  \\\n",
      "0  2013      1    1     517.0             515        2.0     830.0   \n",
      "1  2013      1    1     533.0             529        4.0     850.0   \n",
      "2  2013      1    1     542.0             540        2.0     923.0   \n",
      "3  2013      1    1     544.0             545       -1.0    1004.0   \n",
      "4  2013      1    1     554.0             600       -6.0     812.0   \n",
      "\n",
      "   sched_arr_time  arr_delay carrier  ...  origin dest air_time distance  \\\n",
      "0             819       11.0      UA  ...     EWR  IAH    227.0     1400   \n",
      "1             830       20.0      UA  ...     LGA  IAH    227.0     1416   \n",
      "2             850       33.0      AA  ...     JFK  MIA    160.0     1089   \n",
      "3            1022      -18.0      B6  ...     JFK  BQN    183.0     1576   \n",
      "4             837      -25.0      DL  ...     LGA  ATL    116.0      762   \n",
      "\n",
      "   hour  minute      time_hour  plane_year plane_speed  plane_seats  \n",
      "0     5      15  01/01/13 5:00      1999.0         NaN        149.0  \n",
      "1     5      29  01/01/13 5:00      1998.0         NaN        149.0  \n",
      "2     5      40  01/01/13 5:00      1990.0         NaN        178.0  \n",
      "3     5      45  01/01/13 5:00      2012.0         NaN        200.0  \n",
      "4     6       0  01/01/13 6:00      1991.0         NaN        178.0  \n",
      "\n",
      "[5 rows x 22 columns]\n",
      "\n",
      "Result from Pandas:\n",
      "   year  month  day  dep_time  sched_dep_time  dep_delay  arr_time  \\\n",
      "0  2013      1    1     517.0             515        2.0     830.0   \n",
      "1  2013      1    1     533.0             529        4.0     850.0   \n",
      "2  2013      1    1     542.0             540        2.0     923.0   \n",
      "3  2013      1    1     544.0             545       -1.0    1004.0   \n",
      "4  2013      1    1     554.0             600       -6.0     812.0   \n",
      "\n",
      "   sched_arr_time  arr_delay carrier  ...  origin dest air_time distance  \\\n",
      "0             819       11.0      UA  ...     EWR  IAH    227.0     1400   \n",
      "1             830       20.0      UA  ...     LGA  IAH    227.0     1416   \n",
      "2             850       33.0      AA  ...     JFK  MIA    160.0     1089   \n",
      "3            1022      -18.0      B6  ...     JFK  BQN    183.0     1576   \n",
      "4             837      -25.0      DL  ...     LGA  ATL    116.0      762   \n",
      "\n",
      "   hour  minute      time_hour  plane_year plane_speed  plane_seats  \n",
      "0     5      15  01/01/13 5:00      1999.0         NaN        149.0  \n",
      "1     5      29  01/01/13 5:00      1998.0         NaN        149.0  \n",
      "2     5      40  01/01/13 5:00      1990.0         NaN        178.0  \n",
      "3     5      45  01/01/13 5:00      2012.0         NaN        200.0  \n",
      "4     6       0  01/01/13 6:00      1991.0         NaN        178.0  \n",
      "\n",
      "[5 rows x 22 columns]\n"
     ]
    }
   ],
   "source": [
    "task15_sql = pd.read_sql_query(\"\"\"\n",
    "    SELECT\n",
    "    flights.*,\n",
    "    planes.year AS plane_year,\n",
    "    planes.speed AS plane_speed,\n",
    "    planes.seats AS plane_seats\n",
    "    FROM flights LEFT JOIN planes ON flights.tailnum=planes.tailnum\n",
    "\"\"\", conn)\n",
    "task15_my = pd.merge(nyc_flights_df,\n",
    "                  nyc_planes_df[['tailnum', 'year', 'speed', 'seats']],\n",
    "                  on = 'tailnum', how = 'left')\n",
    "task15_my.rename(columns = {'year_x' : 'year', 'year_y' : 'plane_year', 'speed' : \n",
    "                            'plane_speed','seats' : 'plane_seats'}, inplace = True)\n",
    "\n",
    "#Result print\n",
    "print('Result from SQL Query:')\n",
    "print(task15_sql.head(5))\n",
    "print('\\nResult from Pandas:')\n",
    "print(task15_my.head(5))"
   ]
  },
  {
   "cell_type": "code",
   "execution_count": 24,
   "id": "ea5d4208",
   "metadata": {},
   "outputs": [],
   "source": [
    "pd.testing.assert_frame_equal(task15_sql, task15_my)"
   ]
  },
  {
   "cell_type": "markdown",
   "id": "1ea09de9",
   "metadata": {},
   "source": [
    "##### Here for pandas implementation I have used merge function from pandas for merging columns from two different table."
   ]
  },
  {
   "cell_type": "markdown",
   "id": "67e0bc77",
   "metadata": {},
   "source": [
    "###### Query 16:"
   ]
  },
  {
   "cell_type": "code",
   "execution_count": 25,
   "id": "99d66eeb",
   "metadata": {},
   "outputs": [
    {
     "name": "stdout",
     "output_type": "stream",
     "text": [
      "Result from SQL Query:\n",
      "  tailnum    year                     type      manufacturer      model  \\\n",
      "0  N10156  2004.0  Fixed wing multi engine           EMBRAER  EMB-145XR   \n",
      "1  N102UW  1998.0  Fixed wing multi engine  AIRBUS INDUSTRIE   A320-214   \n",
      "2  N103US  1999.0  Fixed wing multi engine  AIRBUS INDUSTRIE   A320-214   \n",
      "3  N104UW  1999.0  Fixed wing multi engine  AIRBUS INDUSTRIE   A320-214   \n",
      "4  N10575  2002.0  Fixed wing multi engine           EMBRAER  EMB-145LR   \n",
      "\n",
      "   engines  seats  speed     engine carrier                      name  \n",
      "0        2     55    NaN  Turbo-fan      EV  ExpressJet Airlines Inc.  \n",
      "1        2    182    NaN  Turbo-fan      US           US Airways Inc.  \n",
      "2        2    182    NaN  Turbo-fan      US           US Airways Inc.  \n",
      "3        2    182    NaN  Turbo-fan      US           US Airways Inc.  \n",
      "4        2     55    NaN  Turbo-fan      EV  ExpressJet Airlines Inc.  \n",
      "\n",
      "Result from Pandas:\n",
      "  tailnum    year                     type      manufacturer      model  \\\n",
      "0  N10156  2004.0  Fixed wing multi engine           EMBRAER  EMB-145XR   \n",
      "1  N102UW  1998.0  Fixed wing multi engine  AIRBUS INDUSTRIE   A320-214   \n",
      "2  N103US  1999.0  Fixed wing multi engine  AIRBUS INDUSTRIE   A320-214   \n",
      "3  N104UW  1999.0  Fixed wing multi engine  AIRBUS INDUSTRIE   A320-214   \n",
      "4  N10575  2002.0  Fixed wing multi engine           EMBRAER  EMB-145LR   \n",
      "\n",
      "   engines  seats  speed     engine carrier                      name  \n",
      "0        2     55    NaN  Turbo-fan      EV  ExpressJet Airlines Inc.  \n",
      "1        2    182    NaN  Turbo-fan      US           US Airways Inc.  \n",
      "2        2    182    NaN  Turbo-fan      US           US Airways Inc.  \n",
      "3        2    182    NaN  Turbo-fan      US           US Airways Inc.  \n",
      "4        2     55    NaN  Turbo-fan      EV  ExpressJet Airlines Inc.  \n"
     ]
    }
   ],
   "source": [
    "#Query df\n",
    "task16_sql = pd.read_sql_query(\"\"\"\n",
    "    SELECT planes.*, airline.* FROM\n",
    "    (SELECT DISTINCT carrier, tailnum FROM flights) AS cartail\n",
    "    INNER JOIN planes ON cartail.tailnum=planes.tailnum\n",
    "    INNER JOIN airline ON cartail.carrier=airline.carrier\n",
    "\"\"\", conn)\n",
    "\n",
    "#Pandas df\n",
    "cartail_df = (nyc_flights_df[['carrier', 'tailnum']].\n",
    "              drop_duplicates().reset_index(drop=True))\n",
    "task16_my = pd.merge(nyc_airlines_df, cartail_df, on ='carrier', how='inner')\n",
    "task16_my = pd.merge(nyc_planes_df, task16_my, on = \"tailnum\", how='inner')\n",
    "\n",
    "#Result print\n",
    "print('Result from SQL Query:')\n",
    "print(task16_sql.head(5))\n",
    "print('\\nResult from Pandas:')\n",
    "print(task16_my.head(5))"
   ]
  },
  {
   "cell_type": "markdown",
   "id": "3b422af8",
   "metadata": {},
   "source": [
    "##### Here for pandas implementation, first I have filtered distinct records from carrier and tailnum columns from flights data and stored in cartail dataframe and then it is merged with airlines dataframe on carrier column. Now planes dataframe is also merged with this data to get the final outcome as asked in the question."
   ]
  },
  {
   "cell_type": "code",
   "execution_count": 26,
   "id": "e909b74c",
   "metadata": {},
   "outputs": [],
   "source": [
    "pd.testing.assert_frame_equal(task16_sql, task16_my)"
   ]
  },
  {
   "cell_type": "markdown",
   "id": "a4cb7379",
   "metadata": {},
   "source": [
    "### 2 Additional Tasks for Postgraduate (SIT731) Students (*)"
   ]
  },
  {
   "cell_type": "markdown",
   "id": "a2a34183",
   "metadata": {},
   "source": [
    "##### Query 17"
   ]
  },
  {
   "cell_type": "code",
   "execution_count": 27,
   "id": "6ea1b3a8",
   "metadata": {},
   "outputs": [],
   "source": [
    "task17_sql = pd.read_sql_query(\"\"\"\n",
    "    SELECT\n",
    "      flights2.*,\n",
    "      atemp,\n",
    "      ahumid\n",
    "    FROM (\n",
    "        SELECT * FROM flights WHERE origin='EWR'\n",
    "    ) AS flights2\n",
    "    LEFT JOIN (\n",
    "          SELECT\n",
    "            year, month, day,\n",
    "            AVG(temp) AS atemp,\n",
    "            AVG(humid) AS ahumid\n",
    "          FROM Weather\n",
    "          WHERE origin='EWR'\n",
    "          GROUP BY year, month, day\n",
    "    ) AS weather2\n",
    "    ON flights2.year=weather2.year\n",
    "    AND flights2.month=weather2.month\n",
    "    AND flights2.day=weather2.day\n",
    "\"\"\", conn)"
   ]
  },
  {
   "cell_type": "code",
   "execution_count": 28,
   "id": "faf9ee00",
   "metadata": {},
   "outputs": [
    {
     "data": {
      "text/html": [
       "<div>\n",
       "<style scoped>\n",
       "    .dataframe tbody tr th:only-of-type {\n",
       "        vertical-align: middle;\n",
       "    }\n",
       "\n",
       "    .dataframe tbody tr th {\n",
       "        vertical-align: top;\n",
       "    }\n",
       "\n",
       "    .dataframe thead th {\n",
       "        text-align: right;\n",
       "    }\n",
       "</style>\n",
       "<table border=\"1\" class=\"dataframe\">\n",
       "  <thead>\n",
       "    <tr style=\"text-align: right;\">\n",
       "      <th></th>\n",
       "      <th>origin</th>\n",
       "      <th>year</th>\n",
       "      <th>month</th>\n",
       "      <th>day</th>\n",
       "      <th>hour</th>\n",
       "      <th>temp</th>\n",
       "      <th>dewp</th>\n",
       "      <th>humid</th>\n",
       "      <th>wind_dir</th>\n",
       "      <th>wind_speed</th>\n",
       "      <th>wind_gust</th>\n",
       "      <th>precip</th>\n",
       "      <th>pressure</th>\n",
       "      <th>visib</th>\n",
       "      <th>time_hour</th>\n",
       "    </tr>\n",
       "  </thead>\n",
       "  <tbody>\n",
       "    <tr>\n",
       "      <th>0</th>\n",
       "      <td>EWR</td>\n",
       "      <td>2013</td>\n",
       "      <td>1</td>\n",
       "      <td>1</td>\n",
       "      <td>0</td>\n",
       "      <td>37.04</td>\n",
       "      <td>21.92</td>\n",
       "      <td>53.97</td>\n",
       "      <td>230.0</td>\n",
       "      <td>10.35702</td>\n",
       "      <td>11.918651</td>\n",
       "      <td>0.0</td>\n",
       "      <td>1013.9</td>\n",
       "      <td>10.0</td>\n",
       "      <td>01/01/13 1:00</td>\n",
       "    </tr>\n",
       "    <tr>\n",
       "      <th>1</th>\n",
       "      <td>EWR</td>\n",
       "      <td>2013</td>\n",
       "      <td>1</td>\n",
       "      <td>1</td>\n",
       "      <td>1</td>\n",
       "      <td>37.04</td>\n",
       "      <td>21.92</td>\n",
       "      <td>53.97</td>\n",
       "      <td>230.0</td>\n",
       "      <td>13.80936</td>\n",
       "      <td>15.891535</td>\n",
       "      <td>0.0</td>\n",
       "      <td>1013.0</td>\n",
       "      <td>10.0</td>\n",
       "      <td>01/01/13 2:00</td>\n",
       "    </tr>\n",
       "    <tr>\n",
       "      <th>2</th>\n",
       "      <td>EWR</td>\n",
       "      <td>2013</td>\n",
       "      <td>1</td>\n",
       "      <td>1</td>\n",
       "      <td>2</td>\n",
       "      <td>37.94</td>\n",
       "      <td>21.92</td>\n",
       "      <td>52.09</td>\n",
       "      <td>230.0</td>\n",
       "      <td>12.65858</td>\n",
       "      <td>14.567241</td>\n",
       "      <td>0.0</td>\n",
       "      <td>1012.6</td>\n",
       "      <td>10.0</td>\n",
       "      <td>01/01/13 3:00</td>\n",
       "    </tr>\n",
       "    <tr>\n",
       "      <th>3</th>\n",
       "      <td>EWR</td>\n",
       "      <td>2013</td>\n",
       "      <td>1</td>\n",
       "      <td>1</td>\n",
       "      <td>3</td>\n",
       "      <td>37.94</td>\n",
       "      <td>23.00</td>\n",
       "      <td>54.51</td>\n",
       "      <td>230.0</td>\n",
       "      <td>13.80936</td>\n",
       "      <td>15.891535</td>\n",
       "      <td>0.0</td>\n",
       "      <td>1012.7</td>\n",
       "      <td>10.0</td>\n",
       "      <td>01/01/13 4:00</td>\n",
       "    </tr>\n",
       "    <tr>\n",
       "      <th>4</th>\n",
       "      <td>EWR</td>\n",
       "      <td>2013</td>\n",
       "      <td>1</td>\n",
       "      <td>1</td>\n",
       "      <td>4</td>\n",
       "      <td>37.94</td>\n",
       "      <td>24.08</td>\n",
       "      <td>57.04</td>\n",
       "      <td>240.0</td>\n",
       "      <td>14.96014</td>\n",
       "      <td>17.215830</td>\n",
       "      <td>0.0</td>\n",
       "      <td>1012.8</td>\n",
       "      <td>10.0</td>\n",
       "      <td>01/01/13 5:00</td>\n",
       "    </tr>\n",
       "  </tbody>\n",
       "</table>\n",
       "</div>"
      ],
      "text/plain": [
       "  origin  year  month  day  hour   temp   dewp  humid  wind_dir  wind_speed  \\\n",
       "0    EWR  2013      1    1     0  37.04  21.92  53.97     230.0    10.35702   \n",
       "1    EWR  2013      1    1     1  37.04  21.92  53.97     230.0    13.80936   \n",
       "2    EWR  2013      1    1     2  37.94  21.92  52.09     230.0    12.65858   \n",
       "3    EWR  2013      1    1     3  37.94  23.00  54.51     230.0    13.80936   \n",
       "4    EWR  2013      1    1     4  37.94  24.08  57.04     240.0    14.96014   \n",
       "\n",
       "   wind_gust  precip  pressure  visib      time_hour  \n",
       "0  11.918651     0.0    1013.9   10.0  01/01/13 1:00  \n",
       "1  15.891535     0.0    1013.0   10.0  01/01/13 2:00  \n",
       "2  14.567241     0.0    1012.6   10.0  01/01/13 3:00  \n",
       "3  15.891535     0.0    1012.7   10.0  01/01/13 4:00  \n",
       "4  17.215830     0.0    1012.8   10.0  01/01/13 5:00  "
      ]
     },
     "execution_count": 28,
     "metadata": {},
     "output_type": "execute_result"
    }
   ],
   "source": [
    "#Pandas\n",
    "\n",
    "flights2 = nyc_flights_df.query('origin==\"EWR\"').reset_index(drop=True)\n",
    "weather2 = nyc_weather_df.query('origin==\"EWR\"').reset_index(drop=True)\n",
    "weather2.head()"
   ]
  },
  {
   "cell_type": "code",
   "execution_count": 29,
   "id": "67c180a4",
   "metadata": {},
   "outputs": [],
   "source": [
    "weather2 = (weather2.groupby(['year', 'month', 'day'])['temp', 'humid'].mean().\n",
    "            reset_index())\n",
    "weather2.rename(columns={'temp':'atemp', 'humid':'ahumid'}, inplace=True)"
   ]
  },
  {
   "cell_type": "code",
   "execution_count": 30,
   "id": "c64889fa",
   "metadata": {},
   "outputs": [
    {
     "data": {
      "text/html": [
       "<div>\n",
       "<style scoped>\n",
       "    .dataframe tbody tr th:only-of-type {\n",
       "        vertical-align: middle;\n",
       "    }\n",
       "\n",
       "    .dataframe tbody tr th {\n",
       "        vertical-align: top;\n",
       "    }\n",
       "\n",
       "    .dataframe thead th {\n",
       "        text-align: right;\n",
       "    }\n",
       "</style>\n",
       "<table border=\"1\" class=\"dataframe\">\n",
       "  <thead>\n",
       "    <tr style=\"text-align: right;\">\n",
       "      <th></th>\n",
       "      <th>year</th>\n",
       "      <th>month</th>\n",
       "      <th>day</th>\n",
       "      <th>dep_time</th>\n",
       "      <th>sched_dep_time</th>\n",
       "      <th>dep_delay</th>\n",
       "      <th>arr_time</th>\n",
       "      <th>sched_arr_time</th>\n",
       "      <th>arr_delay</th>\n",
       "      <th>carrier</th>\n",
       "      <th>...</th>\n",
       "      <th>tailnum</th>\n",
       "      <th>origin</th>\n",
       "      <th>dest</th>\n",
       "      <th>air_time</th>\n",
       "      <th>distance</th>\n",
       "      <th>hour</th>\n",
       "      <th>minute</th>\n",
       "      <th>time_hour</th>\n",
       "      <th>atemp</th>\n",
       "      <th>ahumid</th>\n",
       "    </tr>\n",
       "  </thead>\n",
       "  <tbody>\n",
       "    <tr>\n",
       "      <th>0</th>\n",
       "      <td>2013</td>\n",
       "      <td>1</td>\n",
       "      <td>1</td>\n",
       "      <td>517.0</td>\n",
       "      <td>515</td>\n",
       "      <td>2.0</td>\n",
       "      <td>830.0</td>\n",
       "      <td>819</td>\n",
       "      <td>11.0</td>\n",
       "      <td>UA</td>\n",
       "      <td>...</td>\n",
       "      <td>N14228</td>\n",
       "      <td>EWR</td>\n",
       "      <td>IAH</td>\n",
       "      <td>227.0</td>\n",
       "      <td>1400</td>\n",
       "      <td>5</td>\n",
       "      <td>15</td>\n",
       "      <td>01/01/13 5:00</td>\n",
       "      <td>38.48</td>\n",
       "      <td>58.386087</td>\n",
       "    </tr>\n",
       "    <tr>\n",
       "      <th>1</th>\n",
       "      <td>2013</td>\n",
       "      <td>1</td>\n",
       "      <td>1</td>\n",
       "      <td>554.0</td>\n",
       "      <td>558</td>\n",
       "      <td>-4.0</td>\n",
       "      <td>740.0</td>\n",
       "      <td>728</td>\n",
       "      <td>12.0</td>\n",
       "      <td>UA</td>\n",
       "      <td>...</td>\n",
       "      <td>N39463</td>\n",
       "      <td>EWR</td>\n",
       "      <td>ORD</td>\n",
       "      <td>150.0</td>\n",
       "      <td>719</td>\n",
       "      <td>5</td>\n",
       "      <td>58</td>\n",
       "      <td>01/01/13 5:00</td>\n",
       "      <td>38.48</td>\n",
       "      <td>58.386087</td>\n",
       "    </tr>\n",
       "    <tr>\n",
       "      <th>2</th>\n",
       "      <td>2013</td>\n",
       "      <td>1</td>\n",
       "      <td>1</td>\n",
       "      <td>555.0</td>\n",
       "      <td>600</td>\n",
       "      <td>-5.0</td>\n",
       "      <td>913.0</td>\n",
       "      <td>854</td>\n",
       "      <td>19.0</td>\n",
       "      <td>B6</td>\n",
       "      <td>...</td>\n",
       "      <td>N516JB</td>\n",
       "      <td>EWR</td>\n",
       "      <td>FLL</td>\n",
       "      <td>158.0</td>\n",
       "      <td>1065</td>\n",
       "      <td>6</td>\n",
       "      <td>0</td>\n",
       "      <td>01/01/13 6:00</td>\n",
       "      <td>38.48</td>\n",
       "      <td>58.386087</td>\n",
       "    </tr>\n",
       "    <tr>\n",
       "      <th>3</th>\n",
       "      <td>2013</td>\n",
       "      <td>1</td>\n",
       "      <td>1</td>\n",
       "      <td>558.0</td>\n",
       "      <td>600</td>\n",
       "      <td>-2.0</td>\n",
       "      <td>923.0</td>\n",
       "      <td>937</td>\n",
       "      <td>-14.0</td>\n",
       "      <td>UA</td>\n",
       "      <td>...</td>\n",
       "      <td>N53441</td>\n",
       "      <td>EWR</td>\n",
       "      <td>SFO</td>\n",
       "      <td>361.0</td>\n",
       "      <td>2565</td>\n",
       "      <td>6</td>\n",
       "      <td>0</td>\n",
       "      <td>01/01/13 6:00</td>\n",
       "      <td>38.48</td>\n",
       "      <td>58.386087</td>\n",
       "    </tr>\n",
       "    <tr>\n",
       "      <th>4</th>\n",
       "      <td>2013</td>\n",
       "      <td>1</td>\n",
       "      <td>1</td>\n",
       "      <td>559.0</td>\n",
       "      <td>600</td>\n",
       "      <td>-1.0</td>\n",
       "      <td>854.0</td>\n",
       "      <td>902</td>\n",
       "      <td>-8.0</td>\n",
       "      <td>UA</td>\n",
       "      <td>...</td>\n",
       "      <td>N76515</td>\n",
       "      <td>EWR</td>\n",
       "      <td>LAS</td>\n",
       "      <td>337.0</td>\n",
       "      <td>2227</td>\n",
       "      <td>6</td>\n",
       "      <td>0</td>\n",
       "      <td>01/01/13 6:00</td>\n",
       "      <td>38.48</td>\n",
       "      <td>58.386087</td>\n",
       "    </tr>\n",
       "  </tbody>\n",
       "</table>\n",
       "<p>5 rows × 21 columns</p>\n",
       "</div>"
      ],
      "text/plain": [
       "   year  month  day  dep_time  sched_dep_time  dep_delay  arr_time  \\\n",
       "0  2013      1    1     517.0             515        2.0     830.0   \n",
       "1  2013      1    1     554.0             558       -4.0     740.0   \n",
       "2  2013      1    1     555.0             600       -5.0     913.0   \n",
       "3  2013      1    1     558.0             600       -2.0     923.0   \n",
       "4  2013      1    1     559.0             600       -1.0     854.0   \n",
       "\n",
       "   sched_arr_time  arr_delay carrier  ...  tailnum origin dest air_time  \\\n",
       "0             819       11.0      UA  ...   N14228    EWR  IAH    227.0   \n",
       "1             728       12.0      UA  ...   N39463    EWR  ORD    150.0   \n",
       "2             854       19.0      B6  ...   N516JB    EWR  FLL    158.0   \n",
       "3             937      -14.0      UA  ...   N53441    EWR  SFO    361.0   \n",
       "4             902       -8.0      UA  ...   N76515    EWR  LAS    337.0   \n",
       "\n",
       "   distance  hour  minute      time_hour  atemp     ahumid  \n",
       "0      1400     5      15  01/01/13 5:00  38.48  58.386087  \n",
       "1       719     5      58  01/01/13 5:00  38.48  58.386087  \n",
       "2      1065     6       0  01/01/13 6:00  38.48  58.386087  \n",
       "3      2565     6       0  01/01/13 6:00  38.48  58.386087  \n",
       "4      2227     6       0  01/01/13 6:00  38.48  58.386087  \n",
       "\n",
       "[5 rows x 21 columns]"
      ]
     },
     "execution_count": 30,
     "metadata": {},
     "output_type": "execute_result"
    }
   ],
   "source": [
    "task17_my = pd.merge(flights2, weather2, on = ['year', 'month', 'day'], how='left')\n",
    "task17_my.head()"
   ]
  },
  {
   "cell_type": "code",
   "execution_count": 31,
   "id": "68dec540",
   "metadata": {},
   "outputs": [
    {
     "name": "stdout",
     "output_type": "stream",
     "text": [
      "Result from SQL Query:\n",
      "   year  month  day  dep_time  sched_dep_time  dep_delay  arr_time  \\\n",
      "0  2013      1    1     517.0             515        2.0     830.0   \n",
      "1  2013      1    1     554.0             558       -4.0     740.0   \n",
      "2  2013      1    1     555.0             600       -5.0     913.0   \n",
      "3  2013      1    1     558.0             600       -2.0     923.0   \n",
      "4  2013      1    1     559.0             600       -1.0     854.0   \n",
      "\n",
      "   sched_arr_time  arr_delay carrier  ...  tailnum origin dest air_time  \\\n",
      "0             819       11.0      UA  ...   N14228    EWR  IAH    227.0   \n",
      "1             728       12.0      UA  ...   N39463    EWR  ORD    150.0   \n",
      "2             854       19.0      B6  ...   N516JB    EWR  FLL    158.0   \n",
      "3             937      -14.0      UA  ...   N53441    EWR  SFO    361.0   \n",
      "4             902       -8.0      UA  ...   N76515    EWR  LAS    337.0   \n",
      "\n",
      "   distance  hour  minute      time_hour  atemp     ahumid  \n",
      "0      1400     5      15  01/01/13 5:00  38.48  58.386087  \n",
      "1       719     5      58  01/01/13 5:00  38.48  58.386087  \n",
      "2      1065     6       0  01/01/13 6:00  38.48  58.386087  \n",
      "3      2565     6       0  01/01/13 6:00  38.48  58.386087  \n",
      "4      2227     6       0  01/01/13 6:00  38.48  58.386087  \n",
      "\n",
      "[5 rows x 21 columns]\n",
      "\n",
      "Result from Pandas:\n",
      "   year  month  day  dep_time  sched_dep_time  dep_delay  arr_time  \\\n",
      "0  2013      1    1     517.0             515        2.0     830.0   \n",
      "1  2013      1    1     554.0             558       -4.0     740.0   \n",
      "2  2013      1    1     555.0             600       -5.0     913.0   \n",
      "3  2013      1    1     558.0             600       -2.0     923.0   \n",
      "4  2013      1    1     559.0             600       -1.0     854.0   \n",
      "\n",
      "   sched_arr_time  arr_delay carrier  ...  tailnum origin dest air_time  \\\n",
      "0             819       11.0      UA  ...   N14228    EWR  IAH    227.0   \n",
      "1             728       12.0      UA  ...   N39463    EWR  ORD    150.0   \n",
      "2             854       19.0      B6  ...   N516JB    EWR  FLL    158.0   \n",
      "3             937      -14.0      UA  ...   N53441    EWR  SFO    361.0   \n",
      "4             902       -8.0      UA  ...   N76515    EWR  LAS    337.0   \n",
      "\n",
      "   distance  hour  minute      time_hour  atemp     ahumid  \n",
      "0      1400     5      15  01/01/13 5:00  38.48  58.386087  \n",
      "1       719     5      58  01/01/13 5:00  38.48  58.386087  \n",
      "2      1065     6       0  01/01/13 6:00  38.48  58.386087  \n",
      "3      2565     6       0  01/01/13 6:00  38.48  58.386087  \n",
      "4      2227     6       0  01/01/13 6:00  38.48  58.386087  \n",
      "\n",
      "[5 rows x 21 columns]\n"
     ]
    }
   ],
   "source": [
    "#Result print\n",
    "print('Result from SQL Query:')\n",
    "print(task17_sql.head(5))\n",
    "print('\\nResult from Pandas:')\n",
    "print(task17_my.head(5))"
   ]
  },
  {
   "cell_type": "code",
   "execution_count": 32,
   "id": "1192f93b",
   "metadata": {},
   "outputs": [],
   "source": [
    "pd.testing.assert_frame_equal(task17_sql, task17_my)"
   ]
  },
  {
   "cell_type": "code",
   "execution_count": 33,
   "id": "5b3f5d38",
   "metadata": {},
   "outputs": [],
   "source": [
    "task17_my['atemp'] = task17_my['atemp'].astype('float')\n",
    "pd.testing.assert_frame_equal(task17_sql, task17_my)"
   ]
  },
  {
   "cell_type": "markdown",
   "id": "29619b35",
   "metadata": {},
   "source": [
    "##### Here for pandas implementation, firstly I have created two seperate data i.e. flights2 and weather2. Both flights2 and weather2 is the filtered records from flights data with origin EWR. Weather2 is then aggregated by groupby on year, month and day columns and aggregate function is mean. These 2 dataframes is then merged to create the final outcome. Later on by using testing.assert_frame_equal it was found that the dataframe obtained from sql query and pandas is not exactly same so the required changes were made like changing the datatype of atemp and then it was checked again which later on confirmed that two dataframes are now same. testing.assert_frame_equal is used to match two dataframes if they are same or not."
   ]
  },
  {
   "cell_type": "markdown",
   "id": "e55067cc",
   "metadata": {},
   "source": [
    "### Conclusion : This task was to replicate all the sql queries with pandas functions. I have explained all the queries and how it was solved with pandas functions. This task helped me to get deeper hands on training by working with dataframes."
   ]
  }
 ],
 "metadata": {
  "kernelspec": {
   "display_name": "Python 3",
   "language": "python",
   "name": "python3"
  },
  "language_info": {
   "codemirror_mode": {
    "name": "ipython",
    "version": 3
   },
   "file_extension": ".py",
   "mimetype": "text/x-python",
   "name": "python",
   "nbconvert_exporter": "python",
   "pygments_lexer": "ipython3",
   "version": "3.8.8"
  }
 },
 "nbformat": 4,
 "nbformat_minor": 5
}
