{
 "cells": [
  {
   "cell_type": "markdown",
   "id": "555a3b63",
   "metadata": {},
   "source": [
    "<h1> Objective:- Assessment Task 1: Modern Data Science. </h1>\n",
    "\n",
    "<div style=\"text-align: right\"> Done by: <b>Karan Murjani </b> </div>"
   ]
  },
  {
   "cell_type": "code",
   "execution_count": 1,
   "id": "5934945d",
   "metadata": {},
   "outputs": [],
   "source": [
    "#importing all the library\n",
    "import pandas as pd\n",
    "import numpy as np\n",
    "import statistics\n",
    "from itertools import permutations\n",
    "from random import uniform, normalvariate, randint\n",
    "import random\n",
    "import matplotlib.pyplot as plt \n",
    "import seaborn as sns\n",
    "%matplotlib inline"
   ]
  },
  {
   "cell_type": "markdown",
   "id": "2c3c425a",
   "metadata": {},
   "source": [
    "### Question 1.1 "
   ]
  },
  {
   "cell_type": "code",
   "execution_count": 2,
   "id": "236c1d4f",
   "metadata": {},
   "outputs": [
    {
     "name": "stdout",
     "output_type": "stream",
     "text": [
      "31\n"
     ]
    },
    {
     "data": {
      "text/plain": [
       "0    61.0\n",
       "Name: 0.9, dtype: float64"
      ]
     },
     "execution_count": 2,
     "metadata": {},
     "output_type": "execute_result"
    }
   ],
   "source": [
    "ages = [5,31,43,48,50,41,7,11,15,39,80,82,32,2,8,6,25,36,27,61,31]\n",
    "\n",
    "#find the median value of age (don’t use numpy);\n",
    "median_age = statistics.median(ages)\n",
    "print(median_age)\n",
    "\n",
    "#find the age which is larger than 90% of other ages (don’t use numpy)\n",
    "temp_df = pd.DataFrame(ages)\n",
    "temp_df.quantile(.90)"
   ]
  },
  {
   "cell_type": "markdown",
   "id": "ec014f78",
   "metadata": {},
   "source": [
    "### Question 1.2"
   ]
  },
  {
   "cell_type": "code",
   "execution_count": 6,
   "id": "25309cdc",
   "metadata": {},
   "outputs": [
    {
     "data": {
      "text/plain": [
       "66"
      ]
     },
     "execution_count": 6,
     "metadata": {},
     "output_type": "execute_result"
    }
   ],
   "source": [
    "#define a function sum_test(), which is summation of a sequence numbers. It takes the argument n. For example, when n = 5, the result should be 1 + 2 + 3 + 4 + 5 = 15;\n",
    "\n",
    "def sum_test(n):\n",
    "    total=0\n",
    "    for i in range(0,n):\n",
    "        total=total + i\n",
    "    return total\n",
    "\n",
    "#call the function and print out the results when the n = 12.\n",
    "sum_test(12)"
   ]
  },
  {
   "cell_type": "markdown",
   "id": "74562e8f",
   "metadata": {},
   "source": [
    "### Question 1.3"
   ]
  },
  {
   "cell_type": "code",
   "execution_count": 4,
   "id": "f4e4650e",
   "metadata": {},
   "outputs": [
    {
     "name": "stdout",
     "output_type": "stream",
     "text": [
      "Please fill your score:82\n",
      "D\n"
     ]
    }
   ],
   "source": [
    "while True:\n",
    "    try:\n",
    "        score = int(input(\"Please fill your score:\"))\n",
    "        if score < 60:\n",
    "            print(\"F\")\n",
    "            break\n",
    "        elif score < 70:\n",
    "            print(\"P\")\n",
    "            break\n",
    "        elif score < 80:\n",
    "            print(\"C\")\n",
    "            break\n",
    "        elif score < 90:\n",
    "            print(\"D\")\n",
    "            break\n",
    "        elif score >= 90:\n",
    "            print(\"HD\")\n",
    "            break\n",
    "    except:\n",
    "        print('Incorrect input type. Please enter integer type')"
   ]
  },
  {
   "cell_type": "markdown",
   "id": "e986b091",
   "metadata": {},
   "source": [
    "### Question 1.4"
   ]
  },
  {
   "cell_type": "code",
   "execution_count": 5,
   "id": "851177fe",
   "metadata": {},
   "outputs": [
    {
     "name": "stdout",
     "output_type": "stream",
     "text": [
      "∗\n",
      "∗∗\n",
      "∗∗∗\n",
      "∗∗∗∗\n",
      "∗∗∗∗∗\n",
      "∗∗∗∗\n",
      "∗∗∗\n",
      "∗∗\n",
      "∗\n"
     ]
    }
   ],
   "source": [
    "#printing upper triangle\n",
    "num = 1\n",
    "while num > 0:\n",
    "    if num < 5:\n",
    "        print(\"∗\" * num)\n",
    "        num += 1\n",
    "    else:\n",
    "        break\n",
    "#printing lower triangle\n",
    "num = 5\n",
    "while num >= 1:\n",
    "    print(\"∗\" * num)\n",
    "    num -= 1"
   ]
  },
  {
   "cell_type": "markdown",
   "id": "5f0d16d9",
   "metadata": {},
   "source": [
    "### Question 1.5"
   ]
  },
  {
   "cell_type": "markdown",
   "id": "6684ea05",
   "metadata": {},
   "source": [
    "### Given a string variable test, for example, test = \"aAsmr3idd4bgs7Dlsf9eAF\", using code with for statement to find out all the digits (for example, here it is ”3479”) in the string variable test, and store those digits (here it is ”3479”) into another string variable result, then print result."
   ]
  },
  {
   "cell_type": "code",
   "execution_count": 6,
   "id": "a98c50f7",
   "metadata": {},
   "outputs": [
    {
     "name": "stdout",
     "output_type": "stream",
     "text": [
      "Input String: aAsmr3idd4bgs7Dlsf9eAF\n",
      "Extracted digits from the list: 3479\n"
     ]
    }
   ],
   "source": [
    "input_string = \"aAsmr3idd4bgs7Dlsf9eAF\"\n",
    " \n",
    "print(\"Input String:\", input_string) \n",
    "\n",
    "result = \"\"\n",
    "for num in input_string:\n",
    "    if num.isdigit():\n",
    "        result = result + num\n",
    "        \n",
    "print(\"Extracted digits from the list:\",result) "
   ]
  },
  {
   "cell_type": "code",
   "execution_count": null,
   "id": "d8c9622b",
   "metadata": {},
   "outputs": [],
   "source": []
  },
  {
   "cell_type": "markdown",
   "id": "8a696c60",
   "metadata": {},
   "source": [
    "### Question 1.6"
   ]
  },
  {
   "cell_type": "code",
   "execution_count": 7,
   "id": "7f903093",
   "metadata": {},
   "outputs": [
    {
     "data": {
      "text/plain": [
       "[0, 10, 21, 29]"
      ]
     },
     "execution_count": 7,
     "metadata": {},
     "output_type": "execute_result"
    }
   ],
   "source": [
    "def find_all(string, sub_string):\n",
    "    \n",
    "    result = []\n",
    "    i = 0\n",
    "    \n",
    "    while i < len(string):\n",
    "        i = string.find(sub_string, i) #searching for sub_string(hello) in our string\n",
    "        if i == -1:\n",
    "            return result\n",
    "        else:\n",
    "            result.append(i) #adding into our list\n",
    "            i += len(sub_string) #asking our indicator i to get pass the length of our sub_string to avoid overlapping results\n",
    "    return result\n",
    "\n",
    "#Calling our function\n",
    "find_all(\"helloworldhelloPythonhelloc++hellojava\", \"hello\")"
   ]
  },
  {
   "cell_type": "code",
   "execution_count": null,
   "id": "be584587",
   "metadata": {},
   "outputs": [],
   "source": []
  },
  {
   "cell_type": "markdown",
   "id": "524f387c",
   "metadata": {},
   "source": [
    "### Question 1.7"
   ]
  },
  {
   "cell_type": "code",
   "execution_count": 8,
   "id": "40543af9",
   "metadata": {},
   "outputs": [
    {
     "name": "stdout",
     "output_type": "stream",
     "text": [
      "{'Name': 'Daniel', '_age': 50}\n",
      "60\n",
      "{'Name': 'Daniel', '_age': 60}\n"
     ]
    }
   ],
   "source": [
    "class Person:\n",
    "    def __init__(self, name, age):\n",
    "        self.Name = name\n",
    "        self._age = age\n",
    "    def Get_age(self):\n",
    "        return self._age\n",
    "    \n",
    "    def Set_age(self, age):\n",
    "        self._age = age\n",
    "        \n",
    "daniel = Person('Daniel', 50)\n",
    "print(daniel.__dict__)\n",
    "\n",
    "daniel.Set_age(60)\n",
    "\n",
    "print(daniel.Get_age())\n",
    "\n",
    "print(daniel.__dict__)"
   ]
  },
  {
   "cell_type": "markdown",
   "id": "cb98c51a",
   "metadata": {},
   "source": [
    "### Question 1.8"
   ]
  },
  {
   "cell_type": "code",
   "execution_count": 9,
   "id": "a374055b",
   "metadata": {},
   "outputs": [
    {
     "name": "stdout",
     "output_type": "stream",
     "text": [
      "[(1, 2, 3), (1, 3, 2), (2, 1, 3), (2, 3, 1), (3, 1, 2), (3, 2, 1)]\n"
     ]
    }
   ],
   "source": [
    "l = list(permutations([1,2,3]))\n",
    "print(l)"
   ]
  },
  {
   "cell_type": "code",
   "execution_count": 10,
   "id": "faff5607",
   "metadata": {},
   "outputs": [
    {
     "name": "stdout",
     "output_type": "stream",
     "text": [
      "[(1, 2, 3), (1, 3, 2), (2, 1, 3), (2, 3, 1), (3, 1, 2), (3, 2, 1)]\n"
     ]
    }
   ],
   "source": [
    "def permute(input_arr):\n",
    "    if (len(set(input_arr)) != len(input_arr)):\n",
    "        print(\"Please enter unique values in an array!!\")\n",
    "    else:\n",
    "        possible_permutations = list(permutations(input_arr))\n",
    "        print(possible_permutations)\n",
    "\n",
    "#calling a function\n",
    "permute([1,2,3])"
   ]
  },
  {
   "cell_type": "code",
   "execution_count": null,
   "id": "9b762457",
   "metadata": {},
   "outputs": [],
   "source": []
  },
  {
   "cell_type": "markdown",
   "id": "0584ac7f",
   "metadata": {},
   "source": [
    "# Part II"
   ]
  },
  {
   "cell_type": "markdown",
   "id": "b43c3f0a",
   "metadata": {},
   "source": [
    "### Question 2"
   ]
  },
  {
   "cell_type": "markdown",
   "id": "fd83bdda",
   "metadata": {},
   "source": [
    "#### Question 2 (Version-II)"
   ]
  },
  {
   "cell_type": "markdown",
   "id": "df4e4ea7",
   "metadata": {},
   "source": [
    "#### Hill climb on linear regression"
   ]
  },
  {
   "cell_type": "code",
   "execution_count": 12,
   "id": "3bef23a4",
   "metadata": {},
   "outputs": [
    {
     "data": {
      "image/png": "[encoded data removed]",
      "text/plain": [
       "<Figure size 432x288 with 1 Axes>"
      ]
     },
     "metadata": {
      "needs_background": "light"
     },
     "output_type": "display_data"
    }
   ],
   "source": [
    "X=np.linspace(0, 3, 30)\n",
    "Y = 2.5 * np.linspace(0, 3, 30) + 5 * np.random.rand(30)\n",
    "fig, ax=plt.subplots() \n",
    "ax.set_title('Regression line to fit') \n",
    "ax. set_ylabel('Y')\n",
    "ax. set_xlabel('X')\n",
    "ax.plot(X, Y, label='line to fit')\n",
    "ax.legend ()\n",
    "plt.show()"
   ]
  },
  {
   "cell_type": "code",
   "execution_count": 13,
   "id": "45a7338e",
   "metadata": {},
   "outputs": [],
   "source": [
    "#Converting from array to dataframe\n",
    "data = pd.DataFrame(X, columns=[\"x\"])\n",
    "data['y'] = Y.tolist()\n",
    "data.head()\n",
    "\n",
    "# Get input data\n",
    "X = data.iloc[:, 0]\n",
    "Y = data.iloc[:, 1]"
   ]
  },
  {
   "cell_type": "code",
   "execution_count": 14,
   "id": "e65f6cb5",
   "metadata": {},
   "outputs": [
    {
     "name": "stdout",
     "output_type": "stream",
     "text": [
      "1.3853479212177082 23.79303852446106\n",
      "3.905759844297725 4.426044415114917\n"
     ]
    }
   ],
   "source": [
    "a = 0\n",
    "error = 100000000 #initialise with very large error\n",
    "n = float(len(X))\n",
    "n_rounds = 1000\n",
    "\n",
    "for i in range(n_rounds):\n",
    "    a_adjust = random.normalvariate(0, 1)\n",
    "    a = a_adjust + a\n",
    "    yfit = a * X\n",
    "    new_error = 1/n * sum((Y - (a*X))**2)\n",
    "    if new_error < error:\n",
    "        error = new_error\n",
    "    else:\n",
    "        a = a - a_adjust\n",
    "\n",
    "    if i % 1000 == 0:\n",
    "        print(a, error)\n",
    "\n",
    "print(a, error)"
   ]
  },
  {
   "cell_type": "code",
   "execution_count": 15,
   "id": "5b8935a4",
   "metadata": {},
   "outputs": [
    {
     "data": {
      "image/png": "[encoded data removed]",
      "text/plain": [
       "<Figure size 432x288 with 1 Axes>"
      ]
     },
     "metadata": {
      "needs_background": "light"
     },
     "output_type": "display_data"
    }
   ],
   "source": [
    "fig, ax=plt.subplots() \n",
    "ax.set_title('Regression line to fit') \n",
    "ax.set_ylabel('Y')\n",
    "ax.set_xlabel('X')\n",
    "ax.plot(X, Y, label='line to fit')\n",
    "ax.plot(X, a * X, label='fitted line') \n",
    "ax.legend()\n",
    "plt.show()"
   ]
  }
 ],
 "metadata": {
  "kernelspec": {
   "display_name": "Python 3",
   "language": "python",
   "name": "python3"
  },
  "language_info": {
   "codemirror_mode": {
    "name": "ipython",
    "version": 3
   },
   "file_extension": ".py",
   "mimetype": "text/x-python",
   "name": "python",
   "nbconvert_exporter": "python",
   "pygments_lexer": "ipython3",
   "version": "3.8.8"
  }
 },
 "nbformat": 4,
 "nbformat_minor": 5
}
